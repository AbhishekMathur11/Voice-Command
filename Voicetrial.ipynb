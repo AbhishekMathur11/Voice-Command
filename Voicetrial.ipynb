{
  "nbformat": 4,
  "nbformat_minor": 0,
  "metadata": {
    "colab": {
      "name": "Voicetrial.ipynb",
      "provenance": [],
      "collapsed_sections": [],
      "authorship_tag": "ABX9TyMr+EP7LuvDR7AdA7Q9Viop",
      "include_colab_link": true
    },
    "kernelspec": {
      "display_name": "Python 3",
      "name": "python3"
    },
    "language_info": {
      "name": "python"
    }
  },
  "cells": [
    {
      "cell_type": "markdown",
      "metadata": {
        "id": "view-in-github",
        "colab_type": "text"
      },
      "source": [
        "<a href=\"https://colab.research.google.com/github/IronAvenger11-prog/Voice-Command/blob/main/Voicetrial.ipynb\" target=\"_parent\"><img src=\"https://colab.research.google.com/assets/colab-badge.svg\" alt=\"Open In Colab\"/></a>"
      ]
    },
    {
      "cell_type": "code",
      "metadata": {
        "colab": {
          "base_uri": "https://localhost:8080/"
        },
        "id": "3235l3Zbzo8p",
        "outputId": "5aeb0c4c-ae19-406a-cede-40c40a8bb9a2"
      },
      "source": [
        "!pip install gtts"
      ],
      "execution_count": 9,
      "outputs": [
        {
          "output_type": "stream",
          "name": "stdout",
          "text": [
            "Collecting gtts\n",
            "  Downloading gTTS-2.2.3-py3-none-any.whl (25 kB)\n",
            "Requirement already satisfied: click in /usr/local/lib/python3.7/dist-packages (from gtts) (7.1.2)\n",
            "Requirement already satisfied: six in /usr/local/lib/python3.7/dist-packages (from gtts) (1.15.0)\n",
            "Requirement already satisfied: requests in /usr/local/lib/python3.7/dist-packages (from gtts) (2.23.0)\n",
            "Requirement already satisfied: urllib3!=1.25.0,!=1.25.1,<1.26,>=1.21.1 in /usr/local/lib/python3.7/dist-packages (from requests->gtts) (1.24.3)\n",
            "Requirement already satisfied: chardet<4,>=3.0.2 in /usr/local/lib/python3.7/dist-packages (from requests->gtts) (3.0.4)\n",
            "Requirement already satisfied: certifi>=2017.4.17 in /usr/local/lib/python3.7/dist-packages (from requests->gtts) (2021.5.30)\n",
            "Requirement already satisfied: idna<3,>=2.5 in /usr/local/lib/python3.7/dist-packages (from requests->gtts) (2.10)\n",
            "Installing collected packages: gtts\n",
            "Successfully installed gtts-2.2.3\n"
          ]
        }
      ]
    },
    {
      "cell_type": "code",
      "metadata": {
        "id": "leBy9eEf-e_v"
      },
      "source": [
        "from gtts import gTTS"
      ],
      "execution_count": null,
      "outputs": []
    },
    {
      "cell_type": "code",
      "metadata": {
        "id": "H4j--Bwk8GA8"
      },
      "source": [
        "import os"
      ],
      "execution_count": null,
      "outputs": []
    },
    {
      "cell_type": "code",
      "metadata": {
        "colab": {
          "background_save": true
        },
        "id": "blgl_U858dRB"
      },
      "source": [
        "mytext = \"Naan oru thadave sonna noora thadave sonna maadri\"\n",
        "language = \"en\"\n",
        "myobj = gTTS(text = mytext,lang = language,slow = False)\n",
        "myobj.save(\"Test.mp3\")\n",
        "\n"
      ],
      "execution_count": null,
      "outputs": []
    },
    {
      "cell_type": "code",
      "metadata": {
        "colab": {
          "base_uri": "https://localhost:8080/",
          "height": 75
        },
        "id": "nIQ_8aFU9UoU",
        "outputId": "a812ab4f-b5ed-4174-8569-30f5838ed9d8"
      },
      "source": [
        "from IPython.display import Audio\n",
        "Audio(\"Test.mp3\",autoplay=True)"
      ],
      "execution_count": null,
      "outputs": [
        {
          "data": {
            "text/html": [
              "\n",
              "                <audio controls=\"controls\" autoplay=\"autoplay\">\n",
              "                    <source src=\"data:audio/mpeg;base64,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\" type=\"audio/mpeg\" />\n",
              "                    Your browser does not support the audio element.\n",
              "                </audio>\n",
              "              "
            ],
            "text/plain": [
              "<IPython.lib.display.Audio object>"
            ]
          },
          "execution_count": 21,
          "metadata": {},
          "output_type": "execute_result"
        }
      ]
    },
    {
      "cell_type": "code",
      "metadata": {
        "colab": {
          "base_uri": "https://localhost:8080/"
        },
        "id": "zVwJEiSp9Xwl",
        "outputId": "8bbfdbb4-0f8e-4a70-e7e4-8416eb4761b4"
      },
      "source": [
        "!pip install speechrecognition"
      ],
      "execution_count": 1,
      "outputs": [
        {
          "output_type": "stream",
          "name": "stdout",
          "text": [
            "Collecting speechrecognition\n",
            "  Downloading SpeechRecognition-3.8.1-py2.py3-none-any.whl (32.8 MB)\n",
            "\u001b[K     |████████████████████████████████| 32.8 MB 35 kB/s \n",
            "\u001b[?25hInstalling collected packages: speechrecognition\n",
            "Successfully installed speechrecognition-3.8.1\n"
          ]
        }
      ]
    },
    {
      "cell_type": "code",
      "metadata": {
        "colab": {
          "base_uri": "https://localhost:8080/"
        },
        "id": "I8kwicnLlhvK",
        "outputId": "efd0fac7-3a5c-47fb-de45-f7df686291ec"
      },
      "source": [
        "!pip install webbrowser"
      ],
      "execution_count": 3,
      "outputs": [
        {
          "output_type": "stream",
          "name": "stdout",
          "text": [
            "\u001b[31mERROR: Could not find a version that satisfies the requirement webbrowser (from versions: none)\u001b[0m\n",
            "\u001b[31mERROR: No matching distribution found for webbrowser\u001b[0m\n"
          ]
        }
      ]
    },
    {
      "cell_type": "code",
      "metadata": {
        "colab": {
          "base_uri": "https://localhost:8080/"
        },
        "id": "-YldLRNKlrbe",
        "outputId": "43bbe77e-9c5b-42bf-c4b6-77d30b8e8635"
      },
      "source": [
        "!pip install datetime"
      ],
      "execution_count": 5,
      "outputs": [
        {
          "output_type": "stream",
          "name": "stdout",
          "text": [
            "Requirement already satisfied: datetime in /usr/local/lib/python3.7/dist-packages (4.3)\n",
            "Requirement already satisfied: pytz in /usr/local/lib/python3.7/dist-packages (from datetime) (2018.9)\n",
            "Requirement already satisfied: zope.interface in /usr/local/lib/python3.7/dist-packages (from datetime) (5.4.0)\n",
            "Requirement already satisfied: setuptools in /usr/local/lib/python3.7/dist-packages (from zope.interface->datetime) (57.4.0)\n"
          ]
        }
      ]
    },
    {
      "cell_type": "code",
      "metadata": {
        "colab": {
          "base_uri": "https://localhost:8080/"
        },
        "id": "WdTAI37Olv2I",
        "outputId": "d082f45c-7209-4966-cd8c-7d921d4a111d"
      },
      "source": [
        "!pip install time"
      ],
      "execution_count": 6,
      "outputs": [
        {
          "output_type": "stream",
          "name": "stdout",
          "text": [
            "\u001b[31mERROR: Could not find a version that satisfies the requirement time (from versions: none)\u001b[0m\n",
            "\u001b[31mERROR: No matching distribution found for time\u001b[0m\n"
          ]
        }
      ]
    },
    {
      "cell_type": "code",
      "metadata": {
        "colab": {
          "base_uri": "https://localhost:8080/"
        },
        "id": "asXRov4Ul6kN",
        "outputId": "fd283b3e-2d61-4f06-9a9c-dd1a2ea87008"
      },
      "source": [
        "!pip install pywintypes"
      ],
      "execution_count": 7,
      "outputs": [
        {
          "output_type": "stream",
          "name": "stdout",
          "text": [
            "\u001b[31mERROR: Could not find a version that satisfies the requirement pywintypes (from versions: none)\u001b[0m\n",
            "\u001b[31mERROR: No matching distribution found for pywintypes\u001b[0m\n"
          ]
        }
      ]
    },
    {
      "cell_type": "code",
      "metadata": {
        "id": "lgqp4FEu_RGu"
      },
      "source": [
        "import os\n",
        "from gtts import gTTS\n",
        "import speech_recognition as sr\n",
        "import webbrowser as wb\n",
        "import datetime\n",
        "\n",
        "\n",
        "\n",
        "def youtube():\n",
        "    r1=sr.Recognizer()\n",
        "    r2=sr.Recognizer()\n",
        "    r3=sr.Recognizer()\n",
        "    respond_text = (\"Alright sir, Youtube has been enabled!\")\n",
        "    language = \"en\"\n",
        "    myobj = gTTS(text = response_text,lang = language,slow = False)\n",
        "    myobj.save(\"Speech1.mp3\")\n",
        "    from IPython.display import Audio\n",
        "    Audio(\"Speech1.mp3\",autoplay=True)\n",
        "    \n",
        "    url='https://www.youtube.com/'\n",
        "    with sr.Microphone() as source:\n",
        "        audio=r2.listen(source)\n",
        "        try:\n",
        "            get=r2.recognize_google(audio)\n",
        "            print(get)\n",
        "            wb.get().open_new(url+get)\n",
        "        except sr.UnknownValueError:\n",
        "            error_text = (\"An error occured sir\")\n",
        "\n",
        "        except sr.RequestError as e:\n",
        "             print('failed to understand what you said sir'.format(e)) \n",
        "            \n",
        "def email():\n",
        "    r1=sr.Recognizer()\n",
        "    r2=sr.Recognizer()\n",
        "    r3=sr.Recognizer()\n",
        "    respond_text = (\"Working on it Sir, opeining email now:\")\n",
        "    language = \"en\"\n",
        "    myobj = gTTS(text = response_text,lang = language,slow = False)\n",
        "    myobj.save(\"Speech2.mp3\")\n",
        "    from IPython.display import Audio\n",
        "    Audio(\"Speech2.mp3\",autoplay=True)\n",
        "    url1=''\n",
        "    url2=''\n",
        "    with sr.Microphone() as source:\n",
        "        audio=r2.listen(source)\n",
        "        if 'IIT Goa' in r3.recognize_google(audio):\n",
        "            try:\n",
        "                get=r2.recognize_google(audio)\n",
        "                print(get)\n",
        "                wb.get().open_new(url1+get)\n",
        "            except sr.UnknownValueError:\n",
        "                print(\"An error occured\")\n",
        "\n",
        "            except sr.RequestError as e:\n",
        "                print('failed'.format(e)) \n",
        "            finally:\n",
        "                anythingelse()      \n",
        "        elif 'Personal' in r3.recognize_google(audio):\n",
        "            try:\n",
        "                get=r2.recognize_google(audio)\n",
        "                print(get)\n",
        "                wb.get().open_new(url2+get)\n",
        "            except sr.UnknownValueError:\n",
        "                print(\"An error occured\")\n",
        "\n",
        "            except sr.RequestError as e:\n",
        "                print('failed'.format(e)) \n",
        "        else:\n",
        "             print(\"Sorry sir, I wasn't able to understand that, please speak clearly.\")        \n",
        "\n",
        "\n",
        "\n",
        "\n",
        "\n",
        "def google():\n",
        "    r1=sr.Recognizer()\n",
        "    r2=sr.Recognizer()\n",
        "    r3=sr.Recognizer()\n",
        "    respond_text = (\"Yes sir, I'm fetching google for you\")\n",
        "    language = \"en\"\n",
        "    myobj = gTTS(text = response_text,lang = language,slow = False)\n",
        "    myobj.save(\"Speech3.mp3\")\n",
        "    from IPython.display import Audio\n",
        "    Audio(\"Speech3.mp3\",autoplay=True)\n",
        "    url='https://www.google.co.in/'\n",
        "    with sr.Microphone() as source:\n",
        "\n",
        "        try:\n",
        "            get=r2.recognize_google(audio)\n",
        "            print(get)\n",
        "            wb,get().open_new(url+get)\n",
        "        except sr.UnknownValueError:\n",
        "            print(\"An error occured\")\n",
        "\n",
        "        except sr.RequestError as e:\n",
        "            print('failed'.format(e))\n",
        "        finally:\n",
        "            anythingelse()      \n",
        "\n",
        "def weather():\n",
        "    r1=sr.Recognizer()\n",
        "    r2=sr.Recognizer()\n",
        "    r3=sr.Recognizer()\n",
        "    respond_text = (\"As you say sir. The weather isn't a predictable phenomenon, its quite uncanny I know, but let me fetch it for you!\")\n",
        "    language = \"en\"\n",
        "    myobj = gTTS(text = response_text,lang = language,slow = False)\n",
        "    myobj.save(\"Speech4.mp3\")\n",
        "    from IPython.display import Audio\n",
        "    Audio(\"Speech4.mp3\",autoplay=True)\n",
        "    \n",
        "    url= 'https://www.google.co.in/search?q=google+weather&source=hp&ei=JWIKYYq6E8eb-AbgooOYAQ&iflsig=AINFCbYAAAAAYQpwNSd_4SxKA1t410axftqTCgEqZ-a1&oq=google+weather&gs_lcp=Cgdnd3Mtd2l6EAMyDQgAEIAEELEDEEYQgAIyCAgAEIAEELEDMggIABCABBCxAzIFCAAQgAQyBQgAEIAEMgUIABCABDIFCAAQgAQyCAgAEIAEEMkDMgUIABCABDIFCAAQgAQ6CwgAEIAEELEDEIMBOggIABCxAxCDAToOCAAQgAQQsQMQgwEQyQM6BQgAEJIDUI0DWN0mYL4vaABwAHgAgAGGAYgB0Q2SAQQwLjE0mAEAoAEB&sclient=gws-wiz&ved=0ahUKEwjK4NeAi5fyAhXHDd4KHWDRABMQ4dUDCAc&uact=5'\n",
        "    with sr.Microphone() as source:\n",
        "        audio=r2.listen(source)\n",
        "        try:\n",
        "            get=r2.recognize_google(audio)\n",
        "            print(get)\n",
        "            wb.get().open_new(url+get)\n",
        "        except sr.UnknownValueError:\n",
        "            print(\"An error occured\")\n",
        "\n",
        "        except sr.RequestError as e:\n",
        "            print('failed'.format(e))\n",
        "        finally:\n",
        "            anythingelse()    \n",
        "\n",
        "def greeter():\n",
        "    \n",
        "    currentTime = time.strftime('%H:%M') \n",
        "    if currentTime.hour<12:\n",
        "        greet =(\"Good Morning Sir!\")\n",
        "        language = \"en\"\n",
        "        myobj = gTTS(text = greet,lang = language,slow = False)\n",
        "        myobj.save(\"Speech5.mp3\")\n",
        "        from IPython.display import Audio\n",
        "        Audio(\"Speech5.mp3\",autoplay=True)\n",
        "    elif 18>currentTime.hour>12:\n",
        "        language = \"en\"\n",
        "        myobj = gTTS(text = greet,lang = language,slow = False)\n",
        "        myobj.save(\"Speech6.mp3\")\n",
        "        from IPython.display import Audio\n",
        "        Audio(\"Speech6.mp3\",autoplay=True)\n",
        "    elif currentTime.hour>18:\n",
        "        language = \"en\"\n",
        "        myobj = gTTS(text = greet,lang = language,slow = False)\n",
        "        myobj.save(\"Speech7.mp3\")\n",
        "        from IPython.display import Audio\n",
        "        Audio(\"Speech7.mp3\",autoplay=True)\n",
        "    else:\n",
        "        print(\"Error occured\")\n",
        "\n",
        "\n",
        "def anythingelse():\n",
        "    response_text = (\"Is there anything else I could do sir?\")\n",
        "    language = \"en\"\n",
        "    myobj = gTTS(text = response_text,lang = language,slow = False)\n",
        "    myobj.save(\"Speech8.mp3\")\n",
        "    from IPython.display import Audio\n",
        "    Audio(\"Speech8.mp3\",autoplay=True)\n",
        "    r1=sr.Recognizer()\n",
        "    r2=sr.Recognizer()\n",
        "    r3=sr.Recognizer()\n",
        "    with sr.Microphone() as source:\n",
        "        audio=r3.listen(source)\n",
        "\n",
        "    if \"Proceed\" in r2.recognize_google(audio):\n",
        "        command()\n",
        "    elif \"End\"  in r2.recognize_google(audio):\n",
        "        engine.say(\"Thank You. Always at your service sir!\")\n",
        "    else:\n",
        "        print(\"Error occured!\")\n",
        "        anythingelse()          \n",
        "\n",
        "\n",
        "\n",
        "\n",
        "def command():\n",
        "    r1=sr.Recognizer()\n",
        "    r2=sr.Recognizer()\n",
        "    r3=sr.Recognizer()\n",
        "    response_text = (\"What can I do for you sir?\")\n",
        "    language = \"en\"\n",
        "    myobj = gTTS(text = response_text,lang = language,slow = False)\n",
        "    myobj.save(\"Speech9.mp3\")\n",
        "    from IPython.display import Audio\n",
        "    Audio(\"Speech9.mp3\",autoplay=True)\n",
        "    \n",
        "    with sr.Microphone as source:\n",
        "        audio=r2.listen(source)\n",
        "    if 'Youtube' in r3.recognize_google(audio):\n",
        "        youtube()\n",
        "    elif 'Email' in r3.recognize_google(audio):\n",
        "        email()\n",
        "    elif 'Google' in r3.recognize_google(audio):\n",
        "        google()\n",
        "    elif 'Weather' in r3.recognize_google(audio):\n",
        "        weather()        \n",
        "    else:\n",
        "        anythingelse()    \n"
      ],
      "execution_count": 18,
      "outputs": []
    },
    {
      "cell_type": "code",
      "metadata": {
        "id": "zA9XVOwCmSpH"
      },
      "source": [
        ""
      ],
      "execution_count": null,
      "outputs": []
    }
  ]
}